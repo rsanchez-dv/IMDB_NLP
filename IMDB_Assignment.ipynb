{
 "cells": [
  {
   "cell_type": "markdown",
   "id": "067736a5",
   "metadata": {},
   "source": [
    "# IMDB Assignment"
   ]
  },
  {
   "cell_type": "markdown",
   "id": "b912e9b4",
   "metadata": {},
   "source": [
    "## Importing Libraries"
   ]
  },
  {
   "cell_type": "code",
   "execution_count": 58,
   "id": "263d4129",
   "metadata": {},
   "outputs": [],
   "source": [
    "import pandas as pd\n",
    "from sklearn.pipeline import Pipeline\n",
    "from sklearn.model_selection import train_test_split, GridSearchCV\n",
    "\n",
    "from sklearn.linear_model import LogisticRegression\n",
    "from sklearn.ensemble import RandomForestClassifier\n",
    "from sklearn.naive_bayes import BernoulliNB, MultinomialNB\n",
    "\n",
    "from sklearn.feature_extraction.text import CountVectorizer, TfidfVectorizer\n",
    "from sklearn.metrics import classification_report\n",
    "from IPython.display import set_matplotlib_formats\n",
    "set_matplotlib_formats('retina')\n",
    "\n",
    "# Just don't want warnings.\n",
    "import warnings\n",
    "warnings.filterwarnings('ignore')"
   ]
  },
  {
   "cell_type": "markdown",
   "id": "6c954a78",
   "metadata": {},
   "source": [
    "## Importing Data"
   ]
  },
  {
   "cell_type": "code",
   "execution_count": 2,
   "id": "49eae805",
   "metadata": {},
   "outputs": [
    {
     "data": {
      "text/html": [
       "<div>\n",
       "<style scoped>\n",
       "    .dataframe tbody tr th:only-of-type {\n",
       "        vertical-align: middle;\n",
       "    }\n",
       "\n",
       "    .dataframe tbody tr th {\n",
       "        vertical-align: top;\n",
       "    }\n",
       "\n",
       "    .dataframe thead th {\n",
       "        text-align: right;\n",
       "    }\n",
       "</style>\n",
       "<table border=\"1\" class=\"dataframe\">\n",
       "  <thead>\n",
       "    <tr style=\"text-align: right;\">\n",
       "      <th></th>\n",
       "      <th>review</th>\n",
       "      <th>sentiment</th>\n",
       "    </tr>\n",
       "  </thead>\n",
       "  <tbody>\n",
       "    <tr>\n",
       "      <th>0</th>\n",
       "      <td>One of the other reviewers has mentioned that ...</td>\n",
       "      <td>positive</td>\n",
       "    </tr>\n",
       "    <tr>\n",
       "      <th>1</th>\n",
       "      <td>A wonderful little production. &lt;br /&gt;&lt;br /&gt;The...</td>\n",
       "      <td>positive</td>\n",
       "    </tr>\n",
       "    <tr>\n",
       "      <th>2</th>\n",
       "      <td>I thought this was a wonderful way to spend ti...</td>\n",
       "      <td>positive</td>\n",
       "    </tr>\n",
       "    <tr>\n",
       "      <th>3</th>\n",
       "      <td>Basically there's a family where a little boy ...</td>\n",
       "      <td>negative</td>\n",
       "    </tr>\n",
       "    <tr>\n",
       "      <th>4</th>\n",
       "      <td>Petter Mattei's \"Love in the Time of Money\" is...</td>\n",
       "      <td>positive</td>\n",
       "    </tr>\n",
       "  </tbody>\n",
       "</table>\n",
       "</div>"
      ],
      "text/plain": [
       "                                              review sentiment\n",
       "0  One of the other reviewers has mentioned that ...  positive\n",
       "1  A wonderful little production. <br /><br />The...  positive\n",
       "2  I thought this was a wonderful way to spend ti...  positive\n",
       "3  Basically there's a family where a little boy ...  negative\n",
       "4  Petter Mattei's \"Love in the Time of Money\" is...  positive"
      ]
     },
     "execution_count": 2,
     "metadata": {},
     "output_type": "execute_result"
    }
   ],
   "source": [
    "df = pd.read_csv('./IMDB_Dataset.csv')\n",
    "df.head()"
   ]
  },
  {
   "cell_type": "markdown",
   "id": "b943370a",
   "metadata": {},
   "source": [
    "### Initial Observations in the data"
   ]
  },
  {
   "cell_type": "code",
   "execution_count": 3,
   "id": "24bd26f8",
   "metadata": {},
   "outputs": [
    {
     "data": {
      "text/plain": [
       "negative    25000\n",
       "positive    25000\n",
       "Name: sentiment, dtype: int64"
      ]
     },
     "metadata": {},
     "output_type": "display_data"
    }
   ],
   "source": [
    "display(df['sentiment'].value_counts())"
   ]
  },
  {
   "cell_type": "code",
   "execution_count": 4,
   "id": "7f4fb796",
   "metadata": {},
   "outputs": [
    {
     "data": {
      "text/plain": [
       "(50000, 2)"
      ]
     },
     "execution_count": 4,
     "metadata": {},
     "output_type": "execute_result"
    }
   ],
   "source": [
    "df.shape"
   ]
  },
  {
   "cell_type": "markdown",
   "id": "13394ded",
   "metadata": {},
   "source": [
    "## Creating pipeline"
   ]
  },
  {
   "cell_type": "code",
   "execution_count": 74,
   "id": "2888efee",
   "metadata": {},
   "outputs": [],
   "source": [
    "import string\n",
    "import re\n",
    "import nltk\n",
    "stopword = nltk.corpus.stopwords.words('english')\n",
    "wn = nltk.WordNetLemmatizer()\n",
    "\n",
    "def clean_text(text):\n",
    "    text = \"\".join([word.lower() for word in text if word not in string.punctuation])\n",
    "    tokens = re.split('\\W+', text)\n",
    "    text = [wn.lemmatize(word) for word in tokens if word not in stopword]\n",
    "    return text\n",
    "\n",
    "pipe = Pipeline([\n",
    "    ('cvec',TfidfVectorizer()),\n",
    "    ('lr',LogisticRegression())\n",
    "])\n",
    "# Source: https://dziganto.github.io/Sparse-Matrices-For-Efficient-Machine-Learning/\n",
    "pipe2 = Pipeline([\n",
    "    ('cvec2',TfidfVectorizer()),\n",
    "    ('multi_nb',MultinomialNB())\n",
    "])\n",
    "pipe3 = Pipeline([\n",
    "    ('cvec3', CountVectorizer()),\n",
    "    ('bern_nb',BernoulliNB())\n",
    "])\n",
    "pipe4 = Pipeline([\n",
    "    ('cvec4', CountVectorizer()),\n",
    "    ('rand_forest',RandomForestClassifier())\n",
    "])\n",
    "pipe_params = {\n",
    "    'cvec__max_features': [2500,3000,3500],\n",
    "    'cvec__min_df': [2,3],\n",
    "    'cvec__ngram_range': [(1,1),(1,2)]\n",
    "}"
   ]
  },
  {
   "cell_type": "markdown",
   "id": "c9e4d3ed",
   "metadata": {},
   "source": [
    "## Split Data"
   ]
  },
  {
   "cell_type": "code",
   "execution_count": 6,
   "id": "f8f8a735",
   "metadata": {},
   "outputs": [
    {
     "data": {
      "text/plain": [
       "0    positive\n",
       "1    positive\n",
       "2    positive\n",
       "3    negative\n",
       "4    positive\n",
       "Name: sentiment, dtype: object"
      ]
     },
     "execution_count": 6,
     "metadata": {},
     "output_type": "execute_result"
    }
   ],
   "source": [
    "X = df['review']\n",
    "y = df['sentiment']\n",
    "X.head()\n",
    "y.head()"
   ]
  },
  {
   "cell_type": "code",
   "execution_count": 7,
   "id": "1d2aa4c7",
   "metadata": {},
   "outputs": [
    {
     "data": {
      "text/plain": [
       "0        1\n",
       "1        1\n",
       "2        1\n",
       "3        0\n",
       "4        1\n",
       "        ..\n",
       "49995    1\n",
       "49996    0\n",
       "49997    0\n",
       "49998    0\n",
       "49999    0\n",
       "Name: sentiment, Length: 50000, dtype: int64"
      ]
     },
     "execution_count": 7,
     "metadata": {},
     "output_type": "execute_result"
    }
   ],
   "source": [
    "y = y.apply(lambda x: 1 if x == 'positive' else 0 )\n",
    "y"
   ]
  },
  {
   "cell_type": "code",
   "execution_count": 38,
   "id": "9a1cc6e6",
   "metadata": {},
   "outputs": [],
   "source": [
    "X_train, X_test, y_train, y_test = train_test_split(X,y,test_size = 0.30, random_state=42)"
   ]
  },
  {
   "cell_type": "markdown",
   "id": "74dfc2ae",
   "metadata": {},
   "source": [
    "## Train Models"
   ]
  },
  {
   "cell_type": "markdown",
   "id": "228a3320",
   "metadata": {},
   "source": [
    "### Logistric Regression With GridSearch"
   ]
  },
  {
   "cell_type": "code",
   "execution_count": 41,
   "id": "9b608d2a",
   "metadata": {},
   "outputs": [
    {
     "name": "stdout",
     "output_type": "stream",
     "text": [
      "Time: 77.85983371734619\n",
      "Training Score: 0.9086\n",
      "Training Score: 0.8912\n",
      "              precision    recall  f1-score   support\n",
      "\n",
      "           0       0.90      0.88      0.89      7411\n",
      "           1       0.89      0.90      0.89      7589\n",
      "\n",
      "    accuracy                           0.89     15000\n",
      "   macro avg       0.89      0.89      0.89     15000\n",
      "weighted avg       0.89      0.89      0.89     15000\n",
      "\n"
     ]
    }
   ],
   "source": [
    "gs = GridSearchCV(pipe, param_grid = pipe_params, cv = 3, n_jobs=-1)\n",
    "start = time.time()\n",
    "gs.fit(X_train,y_train)\n",
    "print(f'Time: {time.time() - start}')\n",
    "print(f'Training Score: {gs.score(X_train,y_train)}')\n",
    "print(f'Training Score: {gs.score(X_test,y_test)}')\n",
    "print(classification_report(y_test,gs.predict(X_test)))"
   ]
  },
  {
   "cell_type": "markdown",
   "id": "042dcb84",
   "metadata": {},
   "source": [
    "### Multinomial NB "
   ]
  },
  {
   "cell_type": "code",
   "execution_count": 67,
   "id": "d65ad32d",
   "metadata": {},
   "outputs": [
    {
     "name": "stdout",
     "output_type": "stream",
     "text": [
      "Time: 4.6989686489105225\n",
      "Training Score: 0.9037714285714286\n",
      "Training Score: 0.8608666666666667\n",
      "              precision    recall  f1-score   support\n",
      "\n",
      "           0       0.84      0.89      0.86      7411\n",
      "           1       0.89      0.83      0.86      7589\n",
      "\n",
      "    accuracy                           0.86     15000\n",
      "   macro avg       0.86      0.86      0.86     15000\n",
      "weighted avg       0.86      0.86      0.86     15000\n",
      "\n"
     ]
    }
   ],
   "source": [
    "start = time.time()\n",
    "pipe2.fit(X_train,y_train)\n",
    "print(f'Time: {time.time() - start}')\n",
    "print(f'Training Score: {pipe2.score(X_train,y_train)}')\n",
    "print(f'Training Score: {pipe2.score(X_test,y_test)}')\n",
    "print(classification_report(y_test,pipe2.predict(X_test)))"
   ]
  },
  {
   "cell_type": "markdown",
   "id": "6301ee97",
   "metadata": {},
   "source": [
    "### Bernoulli NB"
   ]
  },
  {
   "cell_type": "code",
   "execution_count": 70,
   "id": "da51aba6",
   "metadata": {
    "scrolled": true
   },
   "outputs": [
    {
     "name": "stdout",
     "output_type": "stream",
     "text": [
      "Time: 4.696046829223633\n",
      "Training Score: 0.9016285714285714\n",
      "Training Score: 0.8561333333333333\n",
      "              precision    recall  f1-score   support\n",
      "\n",
      "           0       0.84      0.88      0.86      7411\n",
      "           1       0.88      0.83      0.85      7589\n",
      "\n",
      "    accuracy                           0.86     15000\n",
      "   macro avg       0.86      0.86      0.86     15000\n",
      "weighted avg       0.86      0.86      0.86     15000\n",
      "\n"
     ]
    }
   ],
   "source": [
    "start = time.time()\n",
    "pipe3.fit(X_train,y_train)\n",
    "print(f'Time: {time.time() - start}')\n",
    "print(f'Training Score: {pipe3.score(X_train,y_train)}')\n",
    "print(f'Training Score: {pipe3.score(X_test,y_test)}')\n",
    "print(classification_report(y_test,pipe3.predict(X_test)))"
   ]
  },
  {
   "cell_type": "markdown",
   "id": "d4d0317a",
   "metadata": {},
   "source": [
    "### Random Forest Classifier"
   ]
  },
  {
   "cell_type": "code",
   "execution_count": 61,
   "id": "cb6c3b50",
   "metadata": {},
   "outputs": [
    {
     "name": "stdout",
     "output_type": "stream",
     "text": [
      "Time: 82.92627286911011\n",
      "Training Score: 1.0\n",
      "Training Score: 0.8515333333333334\n",
      "              precision    recall  f1-score   support\n",
      "\n",
      "           0       0.85      0.85      0.85      7411\n",
      "           1       0.85      0.85      0.85      7589\n",
      "\n",
      "    accuracy                           0.85     15000\n",
      "   macro avg       0.85      0.85      0.85     15000\n",
      "weighted avg       0.85      0.85      0.85     15000\n",
      "\n"
     ]
    }
   ],
   "source": [
    "start = time.time()\n",
    "pipe4.fit(X_train,y_train)\n",
    "print(f'Time: {time.time() - start}')\n",
    "print(f'Training Score: {pipe4.score(X_train,y_train)}')\n",
    "print(f'Training Score: {pipe4.score(X_test,y_test)}')\n",
    "print(classification_report(y_test,pipe4.predict(X_test)))"
   ]
  },
  {
   "cell_type": "markdown",
   "id": "5b81421a",
   "metadata": {},
   "source": [
    "## Save Model"
   ]
  },
  {
   "cell_type": "code",
   "execution_count": 15,
   "id": "4c53bb63",
   "metadata": {},
   "outputs": [],
   "source": [
    "import pickle\n",
    "with open('IMDB_model.pkl','wb') as file:\n",
    "    pickle.dump(gs,file)"
   ]
  },
  {
   "cell_type": "markdown",
   "id": "c09f4e2b",
   "metadata": {},
   "source": [
    "## Load Model"
   ]
  },
  {
   "cell_type": "code",
   "execution_count": 16,
   "id": "f2a10fd7",
   "metadata": {},
   "outputs": [],
   "source": [
    "with open('IMDB_model.pkl', 'rb') as file:\n",
    "    IMDB_model = pickle.load(file)"
   ]
  },
  {
   "cell_type": "markdown",
   "id": "582384ed",
   "metadata": {},
   "source": [
    "## Testing Model"
   ]
  },
  {
   "cell_type": "code",
   "execution_count": 25,
   "id": "e736756a",
   "metadata": {},
   "outputs": [],
   "source": [
    "reviews = [\n",
    "    # NEG\n",
    "    'Absolute trash, dont spend you money on this...',\n",
    "    'A great survival-on-an-island movie. Tom Hanks is superb. A sad story, but one that most people will like.',\n",
    "    # NEG\n",
    "    'No one asked for Mary Poppinss return to modern consciousness, but her reappearance unmistakably proves that Hollywood Boomers are desperate to justify their own mediocrity through nostalgic sentiment',\n",
    "    '\"Cast Away\" is an exceptionally well-crafted exploration of the survival of the human spirit. Its a movie unafraid to consider the full complexity of life.',\n",
    "    'Somewhat entertaining especially with a lot of the unintended comedy. At times very tedious and the main concept of the film was completely lost.',\n",
    "    # NEG\n",
    "    'The film shows shallow -- fake -- empathy with the Appalachian background that begins Vances humble brag about leaving backwoods hollers and winding up at Yale University',\n",
    "    'A great movie that shows the progress of human development through Tom Hanks character while he is stranded on the desert island. But...all that is overshadowed by Wilson, who will remain in our hearts for all eternity.',\n",
    "    # NEG\n",
    "    'Trash like Red Sparrow, the Jennifer Lawrence spy movie, represents the garbagey essence of most Hollywood movies',\n",
    "    'Probably one of the best disaster emotional films ever. A classic game of survival that is played absolutely perfectly.',\n",
    "    # NEG\n",
    "    'The film disastrously focuses on Udays outrages and does so without any moral perspective. \"Rape, torture, disembowelment, killing, drinking, drugs and decadence\" is practically the films synopsis',\n",
    "    'While not a new idea to anyone plot-wise, a brilliantly executed film with lots of great themes/moments to enjoy, mostly just with one man!',\n",
    "]"
   ]
  },
  {
   "cell_type": "code",
   "execution_count": 65,
   "id": "f92dfbf8",
   "metadata": {},
   "outputs": [
    {
     "name": "stdout",
     "output_type": "stream",
     "text": [
      "Grid Search Logistic Regression\n"
     ]
    },
    {
     "data": {
      "text/plain": [
       "array([0, 1, 1, 1, 1, 0, 1, 0, 1, 1, 1], dtype=int64)"
      ]
     },
     "metadata": {},
     "output_type": "display_data"
    }
   ],
   "source": [
    "print(f'Grid Search Logistic Regression')\n",
    "display(gs.predict(reviews))"
   ]
  },
  {
   "cell_type": "code",
   "execution_count": 68,
   "id": "430ac39f",
   "metadata": {},
   "outputs": [
    {
     "name": "stdout",
     "output_type": "stream",
     "text": [
      "MultinomialNB:\n"
     ]
    },
    {
     "data": {
      "text/plain": [
       "array([0, 1, 1, 1, 0, 0, 1, 1, 1, 0, 1], dtype=int64)"
      ]
     },
     "metadata": {},
     "output_type": "display_data"
    }
   ],
   "source": [
    "print(f'MultinomialNB:')\n",
    "display(pipe2.predict(reviews))"
   ]
  },
  {
   "cell_type": "code",
   "execution_count": 71,
   "id": "b6c7f375",
   "metadata": {},
   "outputs": [
    {
     "name": "stdout",
     "output_type": "stream",
     "text": [
      "BernoulliNB\n"
     ]
    },
    {
     "data": {
      "text/plain": [
       "array([0, 1, 1, 1, 0, 1, 1, 1, 1, 0, 1], dtype=int64)"
      ]
     },
     "metadata": {},
     "output_type": "display_data"
    }
   ],
   "source": [
    "print(f'BernoulliNB')\n",
    "display(pipe3.predict(reviews))"
   ]
  },
  {
   "cell_type": "code",
   "execution_count": 72,
   "id": "a3f1bac1",
   "metadata": {},
   "outputs": [
    {
     "name": "stdout",
     "output_type": "stream",
     "text": [
      "RandomForestClassifier:\n"
     ]
    },
    {
     "data": {
      "text/plain": [
       "array([0, 1, 1, 1, 1, 1, 1, 1, 1, 1, 1], dtype=int64)"
      ]
     },
     "metadata": {},
     "output_type": "display_data"
    }
   ],
   "source": [
    "print(f'RandomForestClassifier:')\n",
    "display(pipe4.predict(reviews))"
   ]
  },
  {
   "cell_type": "code",
   "execution_count": 73,
   "id": "32f584cd",
   "metadata": {},
   "outputs": [
    {
     "name": "stdout",
     "output_type": "stream",
     "text": [
      "Actual: [0,1,0,1,1,0,1,0,1,0,1]\n"
     ]
    }
   ],
   "source": [
    "print(f'Actual: [0,1,0,1,1,0,1,0,1,0,1]')"
   ]
  },
  {
   "cell_type": "code",
   "execution_count": null,
   "id": "e6f1e4f5",
   "metadata": {},
   "outputs": [],
   "source": []
  }
 ],
 "metadata": {
  "kernelspec": {
   "display_name": "Python 3",
   "language": "python",
   "name": "python3"
  },
  "language_info": {
   "codemirror_mode": {
    "name": "ipython",
    "version": 3
   },
   "file_extension": ".py",
   "mimetype": "text/x-python",
   "name": "python",
   "nbconvert_exporter": "python",
   "pygments_lexer": "ipython3",
   "version": "3.8.8"
  }
 },
 "nbformat": 4,
 "nbformat_minor": 5
}
